{
 "cells": [
  {
   "cell_type": "code",
   "execution_count": 26,
   "metadata": {},
   "outputs": [],
   "source": [
    "import numpy as np\n",
    "import matplotlib.pyplot as plt\n",
    "import os\n",
    "import yaml\n",
    "\n",
    "import torch\n",
    "import torchvision.transforms as transforms\n",
    "import torchvision.datasets as datasets"
   ]
  },
  {
   "cell_type": "code",
   "execution_count": 6,
   "metadata": {},
   "outputs": [
    {
     "data": {
      "text/plain": [
       "'e:\\\\xray classification\\\\code\\\\notebooks'"
      ]
     },
     "execution_count": 6,
     "metadata": {},
     "output_type": "execute_result"
    }
   ],
   "source": [
    "#pwd"
   ]
  },
  {
   "cell_type": "code",
   "execution_count": 11,
   "metadata": {},
   "outputs": [],
   "source": [
    "cfg = \"../configs/configs.yaml\"\n",
    "def check_path(path):\n",
    "    if os.path.exists(path):\n",
    "        print('the path exits')"
   ]
  },
  {
   "cell_type": "code",
   "execution_count": 9,
   "metadata": {},
   "outputs": [
    {
     "name": "stdout",
     "output_type": "stream",
     "text": [
      "{'general_configs': {'dataset path': 'E:/xray classification/Data/chest_xray', 'dataset splitted': 'E:/xray classification/COVID/splitted/data/COVID-19_Radiography_Dataset'}, 'Augmentation': {'resize': [224, 224], 'random_crop': 224, 'mean': [0.485, 0.456, 0.406], 'std': [0.229, 0.224, 0.225], 'rotation': {'angle': 45}, 'random_affine': {'rotation': 20, 'translation': [0.2, 0.2], 'scaling': [0.1, 0.1], 'shear': 0.1}, 'zoomed_out': 0.3, 'horizontal_flip': 0.5, 'vertical_flip': 0.01}, 'DataLoader': {'batch_size': 8, 'num_workers': 4, 'pin_memory': True, 'data_shuffle': True, 'num_classes': 1}, 'Training': {'epochs': 100, 'learning_rate': 0.0001, 'weight_decay': 1e-05, 'model_name': 'resnet18'}}\n"
     ]
    }
   ],
   "source": [
    "# load cfg file\n",
    "with open(cfg, 'r') as f:\n",
    "    config = yaml.safe_load(f)\n",
    "print(config)"
   ]
  },
  {
   "cell_type": "code",
   "execution_count": 12,
   "metadata": {},
   "outputs": [
    {
     "name": "stdout",
     "output_type": "stream",
     "text": [
      "the path exits\n"
     ]
    }
   ],
   "source": [
    "dataset_dir = config[\"general_configs\"][\"dataset splitted\"]\n",
    "check_path(dataset_dir)"
   ]
  },
  {
   "cell_type": "code",
   "execution_count": 18,
   "metadata": {},
   "outputs": [],
   "source": [
    "splits_dir = [\"train\", \"val\", \"test\"]\n",
    "dirs = []\n",
    "for dir in splits_dir:\n",
    "    data_dir = dataset_dir + \"/\"+ dir\n",
    "    dirs.append(data_dir)\n",
    "\n",
    "    "
   ]
  },
  {
   "cell_type": "code",
   "execution_count": 20,
   "metadata": {},
   "outputs": [],
   "source": [
    "train_dir, val_dir, test_dir = dirs"
   ]
  },
  {
   "cell_type": "code",
   "execution_count": 24,
   "metadata": {},
   "outputs": [],
   "source": [
    "dataset = {\n",
    "    \"train\": train_dir, \"val\": val_dir, \"test\": test_dir\n",
    "}"
   ]
  },
  {
   "cell_type": "code",
   "execution_count": 27,
   "metadata": {},
   "outputs": [
    {
     "ename": "TypeError",
     "evalue": "'module' object is not subscriptable",
     "output_type": "error",
     "traceback": [
      "\u001b[1;31m---------------------------------------------------------------------------\u001b[0m",
      "\u001b[1;31mTypeError\u001b[0m                                 Traceback (most recent call last)",
      "Cell \u001b[1;32mIn[27], line 1\u001b[0m\n\u001b[1;32m----> 1\u001b[0m train_set \u001b[39m=\u001b[39m datasets\u001b[39m.\u001b[39mImageFolder(root\u001b[39m=\u001b[39mdatasets[\u001b[39m'\u001b[39;49m\u001b[39mtrain\u001b[39;49m\u001b[39m'\u001b[39;49m], transform\u001b[39m=\u001b[39mtransforms\u001b[39m.\u001b[39mToTensor())\n\u001b[0;32m      2\u001b[0m val_set \u001b[39m=\u001b[39m datasets\u001b[39m.\u001b[39mImageFolder(root\u001b[39m=\u001b[39mdatasets[\u001b[39m'\u001b[39m\u001b[39mval\u001b[39m\u001b[39m'\u001b[39m], transform\u001b[39m=\u001b[39mtransforms\u001b[39m.\u001b[39mToTensor())\n\u001b[0;32m      3\u001b[0m test_set \u001b[39m=\u001b[39m datasets\u001b[39m.\u001b[39mImageFolder(root\u001b[39m=\u001b[39mdatasets[\u001b[39m'\u001b[39m\u001b[39mtest\u001b[39m\u001b[39m'\u001b[39m], transform\u001b[39m=\u001b[39mtransforms\u001b[39m.\u001b[39mToTensor())\n",
      "\u001b[1;31mTypeError\u001b[0m: 'module' object is not subscriptable"
     ]
    }
   ],
   "source": [
    "train_set = datasets.ImageFolder(root=dataset['train'], transform=transforms.ToTensor())\n",
    "val_set = datasets.ImageFolder(root=dataset['val'], transform=transforms.ToTensor())\n",
    "test_set = datasets.ImageFolder(root=dataset['test'], transform=transforms.ToTensor())\n",
    "train_loader = torch.utils.data.DataLoader(train_set, batch_size=16, shuffle=True, num_workers=2)"
   ]
  },
  {
   "cell_type": "code",
   "execution_count": null,
   "metadata": {},
   "outputs": [],
   "source": []
  }
 ],
 "metadata": {
  "kernelspec": {
   "display_name": "xray_cls",
   "language": "python",
   "name": "python3"
  },
  "language_info": {
   "codemirror_mode": {
    "name": "ipython",
    "version": 3
   },
   "file_extension": ".py",
   "mimetype": "text/x-python",
   "name": "python",
   "nbconvert_exporter": "python",
   "pygments_lexer": "ipython3",
   "version": "3.8.0"
  },
  "orig_nbformat": 4
 },
 "nbformat": 4,
 "nbformat_minor": 2
}
