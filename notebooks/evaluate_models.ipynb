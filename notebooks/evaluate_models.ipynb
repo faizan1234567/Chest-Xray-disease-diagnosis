{
 "cells": [
  {
   "cell_type": "code",
   "execution_count": 9,
   "metadata": {},
   "outputs": [],
   "source": [
    "import torch\n",
    "import sys\n",
    "import os\n",
    "from pathlib import Path\n",
    "import csv\n",
    "import yaml\n",
    "\n",
    "# append the current path\n",
    "ROOT = Path.cwd().resolve().parents[0]\n",
    "if str(ROOT) not in sys.path:\n",
    "    sys.path.append(str(ROOT))\n",
    "\n",
    "from utils import *\n",
    "from utils import get_all_preds, plot_confmat, plot_gradcam, plot_results\n",
    "from dataset.data import get_transforms, load_dataset\n",
    "from train import get_num_correct\n"
   ]
  },
  {
   "cell_type": "code",
   "execution_count": 10,
   "metadata": {},
   "outputs": [],
   "source": [
    "# checkpoints files path\n",
    "def get_ckpt(model, get_state_dict = False):\n",
    "    ckpt = f\"../weights/Runs/weights/lr3e-5_{model}_cuda.pth\"\n",
    "    if get_state_dict:\n",
    "        model_info = torch.load(ckpt, map_location= torch.device(\"cpu\"))\n",
    "        epoch = model_info[\"epoch\"]\n",
    "        model_sd = model_info[\"model_state_dict\"]\n",
    "        return ckpt, model_sd\n",
    "    return ckpt\n"
   ]
  },
  {
   "cell_type": "code",
   "execution_count": 11,
   "metadata": {},
   "outputs": [
    {
     "name": "stdout",
     "output_type": "stream",
     "text": [
      "Yes, the path exits\n"
     ]
    }
   ],
   "source": [
    "# test path..\n",
    "path = get_ckpt(\"resnet18\")\n",
    "if os.path.exists(path):\n",
    "    print(\"Yes, the path exits\")\n",
    "else:\n",
    "    print(\"Oops! the path doesnt exists\")\n"
   ]
  },
  {
   "cell_type": "code",
   "execution_count": 12,
   "metadata": {},
   "outputs": [],
   "source": [
    "config_file = \"../configs/configs.yaml\"\n",
    "with open(config_file, \"r\") as f:\n",
    "    cfg = yaml.safe_load(f)\n",
    "# print(cfg)"
   ]
  },
  {
   "cell_type": "code",
   "execution_count": 13,
   "metadata": {},
   "outputs": [],
   "source": [
    "# set the device\n",
    "device = \"cuda\" if torch.cuda.is_available() else \"cpu\""
   ]
  },
  {
   "cell_type": "code",
   "execution_count": 14,
   "metadata": {},
   "outputs": [],
   "source": [
    "# data loaders\n",
    "train_loader = load_dataset(config_file= cfg, batch_size= 32, \n",
    "                            kind= \"train\", drop_last = False)\n",
    "test_loader = load_dataset(config_file=cfg, batch_size=32, \n",
    "                           kind = \"test\", drop_last = False)"
   ]
  },
  {
   "cell_type": "markdown",
   "metadata": {},
   "source": [
    "### pick the model\n",
    "- loading the ckpt \n",
    "- evaluating resnet18 performance\n",
    "- plotting results and confusion matrix"
   ]
  },
  {
   "cell_type": "code",
   "execution_count": 24,
   "metadata": {},
   "outputs": [],
   "source": [
    "updated_model = get_model(\"densenet121\", pretrained=False,\n",
    "                      num_classes=4, weights= get_ckpt(\"densenet121\", get_state_dict=True)[1])\n"
   ]
  },
  {
   "cell_type": "code",
   "execution_count": 25,
   "metadata": {},
   "outputs": [],
   "source": [
    "train_predictions, train_labels = get_all_preds(updated_model, train_loader)\n",
    "test_predictions, test_labels = get_all_preds(updated_model, test_loader)"
   ]
  },
  {
   "cell_type": "code",
   "execution_count": 18,
   "metadata": {},
   "outputs": [
    {
     "name": "stdout",
     "output_type": "stream",
     "text": [
      "Training predict ion: torch.Size([20685, 4])\n",
      "Test predictions: torch.Size([240, 4])\n"
     ]
    }
   ],
   "source": [
    "# check dimensions of each prdiction\n",
    "print(\"Training prediction: {}\".format(train_predictions.shape))\n",
    "print(\"Test predictions: {}\".format(test_predictions.shape))"
   ]
  },
  {
   "cell_type": "code",
   "execution_count": 19,
   "metadata": {},
   "outputs": [
    {
     "name": "stdout",
     "output_type": "stream",
     "text": [
      "Train Correct: 20127\tTrain Accuracy: 97.30%\n",
      "Test Correct:    226\tTest Accuracy:  94.17%\n"
     ]
    }
   ],
   "source": [
    "train_corrects = get_num_correct(train_predictions, train_labels )\n",
    "test_corrects = get_num_correct(test_predictions, test_labels)\n",
    "\n",
    "print(f'Train Correct: {train_corrects:5}\\tTrain Accuracy: {(100*train_corrects/len(train_loader.dataset)):5.2f}%')\n",
    "print(f'Test Correct: {test_corrects:6}\\tTest Accuracy: {(100*test_corrects/len(test_loader.dataset)):6.2f}%')"
   ]
  },
  {
   "cell_type": "code",
   "execution_count": 20,
   "metadata": {},
   "outputs": [],
   "source": [
    "train_confmat =get_confmat(train_labels, train_predictions)\n",
    "test_confmat = get_confmat(test_labels, test_predictions)\n",
    "# plot_confmat(train_confmat, test_confmat, classes=train_loader.dataset.classes, filename=f'{type(updated_model).__name__.lower()}')\n"
   ]
  },
  {
   "cell_type": "code",
   "execution_count": 21,
   "metadata": {},
   "outputs": [
    {
     "data": {
      "text/plain": [
       "{'covid_19': [0.9783549783549783,\n",
       "  0.9365079365079365,\n",
       "  0.9833333333333333,\n",
       "  0.9593495934959351],\n",
       " 'lung_opacity': [0.9535864978902954,\n",
       "  0.9622641509433962,\n",
       "  0.85,\n",
       "  0.9026548672566371],\n",
       " 'normal': [0.9535864978902954,\n",
       "  0.8888888888888888,\n",
       "  0.9333333333333333,\n",
       "  0.9105691056910569],\n",
       " 'pneumonia': [0.9955947136563876,\n",
       "  0.9836065573770492,\n",
       "  1.0,\n",
       "  0.9917355371900827]}"
      ]
     },
     "execution_count": 21,
     "metadata": {},
     "output_type": "execute_result"
    }
   ],
   "source": [
    "results = get_results(test_confmat, test_loader.dataset.classes)\n",
    "results"
   ]
  },
  {
   "cell_type": "code",
   "execution_count": 22,
   "metadata": {},
   "outputs": [],
   "source": [
    "import pandas as pd\n",
    "df = pd.DataFrame(results)\n",
    "model = 'resnet18'\n",
    "df.index = ['accuracy', 'recall', 'precision', 'f1score']\n",
    "df.to_csv(f'../runs/{model}.csv')"
   ]
  },
  {
   "cell_type": "code",
   "execution_count": 23,
   "metadata": {},
   "outputs": [
    {
     "data": {
      "text/html": [
       "<div>\n",
       "<style scoped>\n",
       "    .dataframe tbody tr th:only-of-type {\n",
       "        vertical-align: middle;\n",
       "    }\n",
       "\n",
       "    .dataframe tbody tr th {\n",
       "        vertical-align: top;\n",
       "    }\n",
       "\n",
       "    .dataframe thead th {\n",
       "        text-align: right;\n",
       "    }\n",
       "</style>\n",
       "<table border=\"1\" class=\"dataframe\">\n",
       "  <thead>\n",
       "    <tr style=\"text-align: right;\">\n",
       "      <th></th>\n",
       "      <th>covid_19</th>\n",
       "      <th>lung_opacity</th>\n",
       "      <th>normal</th>\n",
       "      <th>pneumonia</th>\n",
       "    </tr>\n",
       "  </thead>\n",
       "  <tbody>\n",
       "    <tr>\n",
       "      <th>accuracy</th>\n",
       "      <td>0.978355</td>\n",
       "      <td>0.953586</td>\n",
       "      <td>0.953586</td>\n",
       "      <td>0.995595</td>\n",
       "    </tr>\n",
       "    <tr>\n",
       "      <th>recall</th>\n",
       "      <td>0.936508</td>\n",
       "      <td>0.962264</td>\n",
       "      <td>0.888889</td>\n",
       "      <td>0.983607</td>\n",
       "    </tr>\n",
       "    <tr>\n",
       "      <th>precision</th>\n",
       "      <td>0.983333</td>\n",
       "      <td>0.850000</td>\n",
       "      <td>0.933333</td>\n",
       "      <td>1.000000</td>\n",
       "    </tr>\n",
       "    <tr>\n",
       "      <th>f1score</th>\n",
       "      <td>0.959350</td>\n",
       "      <td>0.902655</td>\n",
       "      <td>0.910569</td>\n",
       "      <td>0.991736</td>\n",
       "    </tr>\n",
       "  </tbody>\n",
       "</table>\n",
       "</div>"
      ],
      "text/plain": [
       "           covid_19  lung_opacity    normal  pneumonia\n",
       "accuracy   0.978355      0.953586  0.953586   0.995595\n",
       "recall     0.936508      0.962264  0.888889   0.983607\n",
       "precision  0.983333      0.850000  0.933333   1.000000\n",
       "f1score    0.959350      0.902655  0.910569   0.991736"
      ]
     },
     "execution_count": 23,
     "metadata": {},
     "output_type": "execute_result"
    }
   ],
   "source": [
    "df"
   ]
  },
  {
   "cell_type": "code",
   "execution_count": null,
   "metadata": {},
   "outputs": [],
   "source": []
  }
 ],
 "metadata": {
  "kernelspec": {
   "display_name": "xray_cls",
   "language": "python",
   "name": "python3"
  },
  "language_info": {
   "codemirror_mode": {
    "name": "ipython",
    "version": 3
   },
   "file_extension": ".py",
   "mimetype": "text/x-python",
   "name": "python",
   "nbconvert_exporter": "python",
   "pygments_lexer": "ipython3",
   "version": "3.8.0"
  },
  "orig_nbformat": 4
 },
 "nbformat": 4,
 "nbformat_minor": 2
}
