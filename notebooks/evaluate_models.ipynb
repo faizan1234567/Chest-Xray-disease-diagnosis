{
 "cells": [
  {
   "cell_type": "code",
   "execution_count": 9,
   "metadata": {},
   "outputs": [],
   "source": [
    "import torch\n",
    "import sys\n",
    "import os\n",
    "from pathlib import Path\n",
    "import csv\n",
    "import yaml\n",
    "\n",
    "# append the current path\n",
    "ROOT = Path.cwd().resolve().parents[0]\n",
    "if str(ROOT) not in sys.path:\n",
    "    sys.path.append(str(ROOT))\n",
    "\n",
    "from utils import *\n",
    "from utils import get_all_preds, plot_confmat, plot_gradcam, plot_results\n",
    "from dataset.data import get_transforms, load_dataset\n",
    "from train import get_num_correct\n"
   ]
  },
  {
   "cell_type": "code",
   "execution_count": 10,
   "metadata": {},
   "outputs": [],
   "source": [
    "# checkpoints files path\n",
    "def get_ckpt(model, get_state_dict = False):\n",
    "    ckpt = f\"../weights/Runs/weights/lr3e-5_{model}_cuda.pth\"\n",
    "    if get_state_dict:\n",
    "        model_info = torch.load(ckpt, map_location= torch.device(\"cpu\"))\n",
    "        epoch = model_info[\"epoch\"]\n",
    "        model_sd = model_info[\"model_state_dict\"]\n",
    "        return ckpt, model_sd\n",
    "    return ckpt\n"
   ]
  },
  {
   "cell_type": "code",
   "execution_count": 11,
   "metadata": {},
   "outputs": [
    {
     "name": "stdout",
     "output_type": "stream",
     "text": [
      "Yes, the path exits\n"
     ]
    }
   ],
   "source": [
    "# test path..\n",
    "path = get_ckpt(\"resnet18\")\n",
    "if os.path.exists(path):\n",
    "    print(\"Yes, the path exits\")\n",
    "else:\n",
    "    print(\"Oops! the path doesnt exists\")\n"
   ]
  },
  {
   "cell_type": "code",
   "execution_count": 12,
   "metadata": {},
   "outputs": [],
   "source": [
    "config_file = \"../configs/configs.yaml\"\n",
    "with open(config_file, \"r\") as f:\n",
    "    cfg = yaml.safe_load(f)\n",
    "# print(cfg)"
   ]
  },
  {
   "cell_type": "code",
   "execution_count": 13,
   "metadata": {},
   "outputs": [],
   "source": [
    "# set the device\n",
    "device = \"cuda\" if torch.cuda.is_available() else \"cpu\""
   ]
  },
  {
   "cell_type": "code",
   "execution_count": 14,
   "metadata": {},
   "outputs": [],
   "source": [
    "# data loaders\n",
    "train_loader = load_dataset(config_file= cfg, batch_size= 32, \n",
    "                            kind= \"train\", drop_last = False)\n",
    "test_loader = load_dataset(config_file=cfg, batch_size=32, \n",
    "                           kind = \"test\", drop_last = False)"
   ]
  },
  {
   "cell_type": "markdown",
   "metadata": {},
   "source": [
    "### pick the model\n",
    "- loading the ckpt \n",
    "- evaluating resnet18 performance\n",
    "- plotting results and confusion matrix"
   ]
  },
  {
   "cell_type": "code",
   "execution_count": 24,
   "metadata": {},
   "outputs": [],
   "source": [
    "updated_model = get_model(\"densenet121\", pretrained=False,\n",
    "                      num_classes=4, weights= get_ckpt(\"densenet121\", get_state_dict=True)[1])\n"
   ]
  },
  {
   "cell_type": "code",
   "execution_count": 25,
   "metadata": {},
   "outputs": [],
   "source": [
    "train_predictions, train_labels = get_all_preds(updated_model, train_loader)\n",
    "test_predictions, test_labels = get_all_preds(updated_model, test_loader)"
   ]
  },
  {
   "cell_type": "code",
   "execution_count": 26,
   "metadata": {},
   "outputs": [
    {
     "name": "stdout",
     "output_type": "stream",
     "text": [
      "Training prediction: torch.Size([20685, 4])\n",
      "Test predictions: torch.Size([240, 4])\n"
     ]
    }
   ],
   "source": [
    "# check dimensions of each prdiction\n",
    "print(\"Training prediction: {}\".format(train_predictions.shape))\n",
    "print(\"Test predictions: {}\".format(test_predictions.shape))"
   ]
  },
  {
   "cell_type": "code",
   "execution_count": 27,
   "metadata": {},
   "outputs": [
    {
     "name": "stdout",
     "output_type": "stream",
     "text": [
      "Train Correct: 20601\tTrain Accuracy: 99.59%\n",
      "Test Correct:    231\tTest Accuracy:  96.25%\n"
     ]
    }
   ],
   "source": [
    "train_corrects = get_num_correct(train_predictions, train_labels )\n",
    "test_corrects = get_num_correct(test_predictions, test_labels)\n",
    "\n",
    "print(f'Train Correct: {train_corrects:5}\\tTrain Accuracy: {(100*train_corrects/len(train_loader.dataset)):5.2f}%')\n",
    "print(f'Test Correct: {test_corrects:6}\\tTest Accuracy: {(100*test_corrects/len(test_loader.dataset)):6.2f}%')"
   ]
  },
  {
   "cell_type": "code",
   "execution_count": 28,
   "metadata": {},
   "outputs": [],
   "source": [
    "train_confmat =get_confmat(train_labels, train_predictions)\n",
    "test_confmat = get_confmat(test_labels, test_predictions)\n",
    "# plot_confmat(train_confmat, test_confmat, classes=train_loader.dataset.classes, filename=f'{type(updated_model).__name__.lower()}')\n"
   ]
  },
  {
   "cell_type": "code",
   "execution_count": 29,
   "metadata": {},
   "outputs": [
    {
     "data": {
      "text/plain": [
       "{'covid_19': [0.9871794871794872, 1.0, 0.95, 0.9743589743589743],\n",
       " 'lung_opacity': [0.9665271966527197,\n",
       "  0.9333333333333333,\n",
       "  0.9333333333333333,\n",
       "  0.9333333333333333],\n",
       " 'normal': [0.9746835443037974,\n",
       "  0.9354838709677419,\n",
       "  0.9666666666666667,\n",
       "  0.9508196721311476],\n",
       " 'pneumonia': [0.9956896551724138,\n",
       "  0.9836065573770492,\n",
       "  1.0,\n",
       "  0.9917355371900827]}"
      ]
     },
     "execution_count": 29,
     "metadata": {},
     "output_type": "execute_result"
    }
   ],
   "source": [
    "results = get_results(test_confmat, test_loader.dataset.classes)\n",
    "results"
   ]
  },
  {
   "cell_type": "code",
   "execution_count": 30,
   "metadata": {},
   "outputs": [],
   "source": [
    "import pandas as pd\n",
    "df = pd.DataFrame(results)\n",
    "model = 'densenet121'\n",
    "df.index = ['accuracy', 'recall', 'precision', 'f1score']\n",
    "df.to_csv(f'../runs/{model}.csv')"
   ]
  },
  {
   "cell_type": "code",
   "execution_count": 31,
   "metadata": {},
   "outputs": [
    {
     "data": {
      "text/html": [
       "<div>\n",
       "<style scoped>\n",
       "    .dataframe tbody tr th:only-of-type {\n",
       "        vertical-align: middle;\n",
       "    }\n",
       "\n",
       "    .dataframe tbody tr th {\n",
       "        vertical-align: top;\n",
       "    }\n",
       "\n",
       "    .dataframe thead th {\n",
       "        text-align: right;\n",
       "    }\n",
       "</style>\n",
       "<table border=\"1\" class=\"dataframe\">\n",
       "  <thead>\n",
       "    <tr style=\"text-align: right;\">\n",
       "      <th></th>\n",
       "      <th>covid_19</th>\n",
       "      <th>lung_opacity</th>\n",
       "      <th>normal</th>\n",
       "      <th>pneumonia</th>\n",
       "    </tr>\n",
       "  </thead>\n",
       "  <tbody>\n",
       "    <tr>\n",
       "      <th>accuracy</th>\n",
       "      <td>0.987179</td>\n",
       "      <td>0.966527</td>\n",
       "      <td>0.974684</td>\n",
       "      <td>0.995690</td>\n",
       "    </tr>\n",
       "    <tr>\n",
       "      <th>recall</th>\n",
       "      <td>1.000000</td>\n",
       "      <td>0.933333</td>\n",
       "      <td>0.935484</td>\n",
       "      <td>0.983607</td>\n",
       "    </tr>\n",
       "    <tr>\n",
       "      <th>precision</th>\n",
       "      <td>0.950000</td>\n",
       "      <td>0.933333</td>\n",
       "      <td>0.966667</td>\n",
       "      <td>1.000000</td>\n",
       "    </tr>\n",
       "    <tr>\n",
       "      <th>f1score</th>\n",
       "      <td>0.974359</td>\n",
       "      <td>0.933333</td>\n",
       "      <td>0.950820</td>\n",
       "      <td>0.991736</td>\n",
       "    </tr>\n",
       "  </tbody>\n",
       "</table>\n",
       "</div>"
      ],
      "text/plain": [
       "           covid_19  lung_opacity    normal  pneumonia\n",
       "accuracy   0.987179      0.966527  0.974684   0.995690\n",
       "recall     1.000000      0.933333  0.935484   0.983607\n",
       "precision  0.950000      0.933333  0.966667   1.000000\n",
       "f1score    0.974359      0.933333  0.950820   0.991736"
      ]
     },
     "execution_count": 31,
     "metadata": {},
     "output_type": "execute_result"
    }
   ],
   "source": [
    "df"
   ]
  },
  {
   "cell_type": "code",
   "execution_count": 32,
   "metadata": {},
   "outputs": [
    {
     "ename": "TypeError",
     "evalue": "bark() takes 0 positional arguments but 1 was given",
     "output_type": "error",
     "traceback": [
      "\u001b[1;31m---------------------------------------------------------------------------\u001b[0m",
      "\u001b[1;31mTypeError\u001b[0m                                 Traceback (most recent call last)",
      "\u001b[1;32me:\\xray classification\\code\\notebooks\\evaluate_models.ipynb Cell 16\u001b[0m line \u001b[0;36m6\n\u001b[0;32m      <a href='vscode-notebook-cell:/e%3A/xray%20classification/code/notebooks/evaluate_models.ipynb#X24sZmlsZQ%3D%3D?line=2'>3</a>\u001b[0m         \u001b[39mprint\u001b[39m(\u001b[39m'\u001b[39m\u001b[39mwoof\u001b[39m\u001b[39m'\u001b[39m)\n\u001b[0;32m      <a href='vscode-notebook-cell:/e%3A/xray%20classification/code/notebooks/evaluate_models.ipynb#X24sZmlsZQ%3D%3D?line=4'>5</a>\u001b[0m dog \u001b[39m=\u001b[39m Dog()\n\u001b[1;32m----> <a href='vscode-notebook-cell:/e%3A/xray%20classification/code/notebooks/evaluate_models.ipynb#X24sZmlsZQ%3D%3D?line=5'>6</a>\u001b[0m dog\u001b[39m.\u001b[39;49mbark()\n",
      "\u001b[1;31mTypeError\u001b[0m: bark() takes 0 positional arguments but 1 was given"
     ]
    }
   ],
   "source": []
  },
  {
   "cell_type": "code",
   "execution_count": null,
   "metadata": {},
   "outputs": [],
   "source": []
  }
 ],
 "metadata": {
  "kernelspec": {
   "display_name": "xray_cls",
   "language": "python",
   "name": "python3"
  },
  "language_info": {
   "codemirror_mode": {
    "name": "ipython",
    "version": 3
   },
   "file_extension": ".py",
   "mimetype": "text/x-python",
   "name": "python",
   "nbconvert_exporter": "python",
   "pygments_lexer": "ipython3",
   "version": "3.8.0"
  },
  "orig_nbformat": 4
 },
 "nbformat": 4,
 "nbformat_minor": 2
}
